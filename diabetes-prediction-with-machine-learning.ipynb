{
 "cells": [
  {
   "cell_type": "markdown",
   "id": "8e911d98",
   "metadata": {
    "papermill": {
     "duration": 0.048051,
     "end_time": "2022-01-03T11:26:45.082986",
     "exception": false,
     "start_time": "2022-01-03T11:26:45.034935",
     "status": "completed"
    },
    "tags": []
   },
   "source": [
    "# Diabetes Prediction with Machine Learning \n",
    "\n",
    "# 1.Introduction\n",
    "\n",
    "Aim of the project is developing a mechine learinig model which can predict whether the patient has diabetes, through the relative information of the patient.\n",
    "\n",
    "## Data\n",
    "\n",
    "This dataset is originally from the National Institute of Diabetes and Digestive and Kidney Diseases. The objective of the dataset is to diagnostically predict whether or not a patient has diabetes, based on certain diagnostic measurements included in the dataset. Several constraints were placed on the selection of these instances from a larger database. In particular, all patients here are females at least 21 years old of Pima Indian heritage.\n",
    "\n",
    "The datasets consists of several medical predictor variables and one target variable, Outcome. Predictor variables includes the number of pregnancies the patient has had, their BMI, insulin level, age, and so on. There are 768 observations and 8 independent variables in the dataset. The target variable indicates the test result of the patient. It is 1 when the test result is positive and 0 when the test result is negative.  \n",
    "\n",
    "## Variables\n",
    "\n",
    "- Pregnancies: Number of times pregnant\n",
    "- Glucose: Glucose\n",
    "- BloodPressure: Blood pressure\n",
    "- SkinThickness: Triceps skin fold thickness\n",
    "- Insulin: Insulin\n",
    "- BMI: Body mass index\n",
    "- DiabetesPedigreeFunction: Diabetes pedigree function\n",
    "- Age: Age (years)\n",
    "- Outcome: The knowledge of whether there is diabetes: 1 or 0\n",
    "\n"
   ]
  },
  {
   "cell_type": "code",
   "execution_count": 1,
   "id": "d56e1fb6",
   "metadata": {
    "execution": {
     "iopub.execute_input": "2022-01-03T11:26:45.210326Z",
     "iopub.status.busy": "2022-01-03T11:26:45.209157Z",
     "iopub.status.idle": "2022-01-03T11:26:49.440944Z",
     "shell.execute_reply": "2022-01-03T11:26:49.440146Z",
     "shell.execute_reply.started": "2022-01-02T18:57:31.578543Z"
    },
    "papermill": {
     "duration": 4.305704,
     "end_time": "2022-01-03T11:26:49.441117",
     "exception": false,
     "start_time": "2022-01-03T11:26:45.135413",
     "status": "completed"
    },
    "tags": []
   },
   "outputs": [
    {
     "data": {
      "text/html": [
       "<style type='text/css'>\n",
       ".datatable table.frame { margin-bottom: 0; }\n",
       ".datatable table.frame thead { border-bottom: none; }\n",
       ".datatable table.frame tr.coltypes td {  color: #FFFFFF;  line-height: 6px;  padding: 0 0.5em;}\n",
       ".datatable .bool    { background: #DDDD99; }\n",
       ".datatable .object  { background: #565656; }\n",
       ".datatable .int     { background: #5D9E5D; }\n",
       ".datatable .float   { background: #4040CC; }\n",
       ".datatable .str     { background: #CC4040; }\n",
       ".datatable .time    { background: #40CC40; }\n",
       ".datatable .row_index {  background: var(--jp-border-color3);  border-right: 1px solid var(--jp-border-color0);  color: var(--jp-ui-font-color3);  font-size: 9px;}\n",
       ".datatable .frame tbody td { text-align: left; }\n",
       ".datatable .frame tr.coltypes .row_index {  background: var(--jp-border-color0);}\n",
       ".datatable th:nth-child(2) { padding-left: 12px; }\n",
       ".datatable .hellipsis {  color: var(--jp-cell-editor-border-color);}\n",
       ".datatable .vellipsis {  background: var(--jp-layout-color0);  color: var(--jp-cell-editor-border-color);}\n",
       ".datatable .na {  color: var(--jp-cell-editor-border-color);  font-size: 80%;}\n",
       ".datatable .sp {  opacity: 0.25;}\n",
       ".datatable .footer { font-size: 9px; }\n",
       ".datatable .frame_dimensions {  background: var(--jp-border-color3);  border-top: 1px solid var(--jp-border-color0);  color: var(--jp-ui-font-color3);  display: inline-block;  opacity: 0.6;  padding: 1px 10px 1px 5px;}\n",
       "</style>\n"
      ],
      "text/plain": [
       "<IPython.core.display.HTML object>"
      ]
     },
     "metadata": {},
     "output_type": "display_data"
    }
   ],
   "source": [
    "# Importing Libraries\n",
    "import pandas as pd\n",
    "import numpy as np\n",
    "import matplotlib.pyplot as plt\n",
    "import seaborn as sns\n",
    "from sklearn.preprocessing import RobustScaler\n",
    "\n",
    "from sklearn.model_selection import train_test_split, GridSearchCV, cross_val_score\n",
    "from sklearn.metrics import accuracy_score, roc_auc_score, roc_curve, classification_report\n",
    "from sklearn.model_selection import KFold, cross_validate, GridSearchCV\n",
    "\n",
    "from lightgbm import LGBMClassifier\n",
    "from sklearn.ensemble import GradientBoostingClassifier\n",
    "from sklearn.ensemble import RandomForestClassifier\n",
    "from sklearn.ensemble import VotingClassifier\n",
    "from sklearn.ensemble import AdaBoostClassifier\n",
    "from sklearn.linear_model import LogisticRegression\n",
    "from sklearn.neighbors import KNeighborsClassifier\n",
    "from sklearn.svm import SVC\n",
    "from sklearn.tree import DecisionTreeClassifier\n",
    "from xgboost import XGBClassifier\n",
    "from catboost import CatBoostClassifier\n",
    "\n",
    "from sklearn.ensemble import VotingClassifier\n",
    "import warnings \n",
    "warnings.simplefilter(action=\"ignore\")"
   ]
  },
  {
   "cell_type": "markdown",
   "id": "0f7dec66",
   "metadata": {
    "papermill": {
     "duration": 0.04695,
     "end_time": "2022-01-03T11:26:49.537570",
     "exception": false,
     "start_time": "2022-01-03T11:26:49.490620",
     "status": "completed"
    },
    "tags": []
   },
   "source": [
    "## 2.Exploratory Data Analysis"
   ]
  },
  {
   "cell_type": "code",
   "execution_count": 2,
   "id": "ec8e10aa",
   "metadata": {
    "execution": {
     "iopub.execute_input": "2022-01-03T11:26:49.634665Z",
     "iopub.status.busy": "2022-01-03T11:26:49.633842Z",
     "iopub.status.idle": "2022-01-03T11:26:49.652912Z",
     "shell.execute_reply": "2022-01-03T11:26:49.652296Z",
     "shell.execute_reply.started": "2022-01-02T12:37:34.983901Z"
    },
    "papermill": {
     "duration": 0.068978,
     "end_time": "2022-01-03T11:26:49.653053",
     "exception": false,
     "start_time": "2022-01-03T11:26:49.584075",
     "status": "completed"
    },
    "tags": []
   },
   "outputs": [],
   "source": [
    "# Read dataset\n",
    "df = pd.read_csv(\"../input/pima-indians-diabetes-database/diabetes.csv\")"
   ]
  },
  {
   "cell_type": "code",
   "execution_count": 3,
   "id": "cdca1cfe",
   "metadata": {
    "execution": {
     "iopub.execute_input": "2022-01-03T11:26:49.750839Z",
     "iopub.status.busy": "2022-01-03T11:26:49.749766Z",
     "iopub.status.idle": "2022-01-03T11:26:49.769699Z",
     "shell.execute_reply": "2022-01-03T11:26:49.769225Z",
     "shell.execute_reply.started": "2022-01-02T12:37:35.008621Z"
    },
    "papermill": {
     "duration": 0.070007,
     "end_time": "2022-01-03T11:26:49.769854",
     "exception": false,
     "start_time": "2022-01-03T11:26:49.699847",
     "status": "completed"
    },
    "tags": []
   },
   "outputs": [
    {
     "data": {
      "text/html": [
       "<div>\n",
       "<style scoped>\n",
       "    .dataframe tbody tr th:only-of-type {\n",
       "        vertical-align: middle;\n",
       "    }\n",
       "\n",
       "    .dataframe tbody tr th {\n",
       "        vertical-align: top;\n",
       "    }\n",
       "\n",
       "    .dataframe thead th {\n",
       "        text-align: right;\n",
       "    }\n",
       "</style>\n",
       "<table border=\"1\" class=\"dataframe\">\n",
       "  <thead>\n",
       "    <tr style=\"text-align: right;\">\n",
       "      <th></th>\n",
       "      <th>Pregnancies</th>\n",
       "      <th>Glucose</th>\n",
       "      <th>BloodPressure</th>\n",
       "      <th>SkinThickness</th>\n",
       "      <th>Insulin</th>\n",
       "      <th>BMI</th>\n",
       "      <th>DiabetesPedigreeFunction</th>\n",
       "      <th>Age</th>\n",
       "      <th>Outcome</th>\n",
       "    </tr>\n",
       "  </thead>\n",
       "  <tbody>\n",
       "    <tr>\n",
       "      <th>0</th>\n",
       "      <td>6</td>\n",
       "      <td>148</td>\n",
       "      <td>72</td>\n",
       "      <td>35</td>\n",
       "      <td>0</td>\n",
       "      <td>33.6</td>\n",
       "      <td>0.627</td>\n",
       "      <td>50</td>\n",
       "      <td>1</td>\n",
       "    </tr>\n",
       "    <tr>\n",
       "      <th>1</th>\n",
       "      <td>1</td>\n",
       "      <td>85</td>\n",
       "      <td>66</td>\n",
       "      <td>29</td>\n",
       "      <td>0</td>\n",
       "      <td>26.6</td>\n",
       "      <td>0.351</td>\n",
       "      <td>31</td>\n",
       "      <td>0</td>\n",
       "    </tr>\n",
       "    <tr>\n",
       "      <th>2</th>\n",
       "      <td>8</td>\n",
       "      <td>183</td>\n",
       "      <td>64</td>\n",
       "      <td>0</td>\n",
       "      <td>0</td>\n",
       "      <td>23.3</td>\n",
       "      <td>0.672</td>\n",
       "      <td>32</td>\n",
       "      <td>1</td>\n",
       "    </tr>\n",
       "    <tr>\n",
       "      <th>3</th>\n",
       "      <td>1</td>\n",
       "      <td>89</td>\n",
       "      <td>66</td>\n",
       "      <td>23</td>\n",
       "      <td>94</td>\n",
       "      <td>28.1</td>\n",
       "      <td>0.167</td>\n",
       "      <td>21</td>\n",
       "      <td>0</td>\n",
       "    </tr>\n",
       "    <tr>\n",
       "      <th>4</th>\n",
       "      <td>0</td>\n",
       "      <td>137</td>\n",
       "      <td>40</td>\n",
       "      <td>35</td>\n",
       "      <td>168</td>\n",
       "      <td>43.1</td>\n",
       "      <td>2.288</td>\n",
       "      <td>33</td>\n",
       "      <td>1</td>\n",
       "    </tr>\n",
       "  </tbody>\n",
       "</table>\n",
       "</div>"
      ],
      "text/plain": [
       "   Pregnancies  Glucose  BloodPressure  SkinThickness  Insulin   BMI  \\\n",
       "0            6      148             72             35        0  33.6   \n",
       "1            1       85             66             29        0  26.6   \n",
       "2            8      183             64              0        0  23.3   \n",
       "3            1       89             66             23       94  28.1   \n",
       "4            0      137             40             35      168  43.1   \n",
       "\n",
       "   DiabetesPedigreeFunction  Age  Outcome  \n",
       "0                     0.627   50        1  \n",
       "1                     0.351   31        0  \n",
       "2                     0.672   32        1  \n",
       "3                     0.167   21        0  \n",
       "4                     2.288   33        1  "
      ]
     },
     "execution_count": 3,
     "metadata": {},
     "output_type": "execute_result"
    }
   ],
   "source": [
    "df.head()"
   ]
  },
  {
   "cell_type": "markdown",
   "id": "03db78fd",
   "metadata": {
    "papermill": {
     "duration": 0.046548,
     "end_time": "2022-01-03T11:26:49.863698",
     "exception": false,
     "start_time": "2022-01-03T11:26:49.817150",
     "status": "completed"
    },
    "tags": []
   },
   "source": [
    "At first glance, it is seen that there is a significant relation ship between positive test results (Outcome=1) and Glucose,also number of pregnancies is likely to be related with outcome variable. Relatively higher or lower BMI level also seem to be related with the outcome variable. On the other hand there are zeros in insulin and extereme vaules in diabets pedigree function."
   ]
  },
  {
   "cell_type": "code",
   "execution_count": 4,
   "id": "6f995cff",
   "metadata": {
    "execution": {
     "iopub.execute_input": "2022-01-03T11:26:49.981883Z",
     "iopub.status.busy": "2022-01-03T11:26:49.980715Z",
     "iopub.status.idle": "2022-01-03T11:26:49.985848Z",
     "shell.execute_reply": "2022-01-03T11:26:49.986433Z",
     "shell.execute_reply.started": "2022-01-02T12:37:35.028517Z"
    },
    "papermill": {
     "duration": 0.075707,
     "end_time": "2022-01-03T11:26:49.986622",
     "exception": false,
     "start_time": "2022-01-03T11:26:49.910915",
     "status": "completed"
    },
    "tags": []
   },
   "outputs": [
    {
     "name": "stdout",
     "output_type": "stream",
     "text": [
      "<class 'pandas.core.frame.DataFrame'>\n",
      "RangeIndex: 768 entries, 0 to 767\n",
      "Data columns (total 9 columns):\n",
      " #   Column                    Non-Null Count  Dtype  \n",
      "---  ------                    --------------  -----  \n",
      " 0   Pregnancies               768 non-null    int64  \n",
      " 1   Glucose                   768 non-null    int64  \n",
      " 2   BloodPressure             768 non-null    int64  \n",
      " 3   SkinThickness             768 non-null    int64  \n",
      " 4   Insulin                   768 non-null    int64  \n",
      " 5   BMI                       768 non-null    float64\n",
      " 6   DiabetesPedigreeFunction  768 non-null    float64\n",
      " 7   Age                       768 non-null    int64  \n",
      " 8   Outcome                   768 non-null    int64  \n",
      "dtypes: float64(2), int64(7)\n",
      "memory usage: 54.1 KB\n"
     ]
    }
   ],
   "source": [
    "df.info()"
   ]
  },
  {
   "cell_type": "markdown",
   "id": "a1ada354",
   "metadata": {
    "papermill": {
     "duration": 0.048124,
     "end_time": "2022-01-03T11:26:50.083606",
     "exception": false,
     "start_time": "2022-01-03T11:26:50.035482",
     "status": "completed"
    },
    "tags": []
   },
   "source": [
    "Dataset is consisting of 768 rows and 9 columns. All the variables are seem to be numeric variables however, unique values in each variable should be checked in order to determine any categorical variable included into the data set. "
   ]
  },
  {
   "cell_type": "code",
   "execution_count": 5,
   "id": "e3bf12e1",
   "metadata": {
    "execution": {
     "iopub.execute_input": "2022-01-03T11:26:50.190211Z",
     "iopub.status.busy": "2022-01-03T11:26:50.189128Z",
     "iopub.status.idle": "2022-01-03T11:26:50.200023Z",
     "shell.execute_reply": "2022-01-03T11:26:50.199470Z",
     "shell.execute_reply.started": "2022-01-02T12:37:35.0486Z"
    },
    "papermill": {
     "duration": 0.066615,
     "end_time": "2022-01-03T11:26:50.200165",
     "exception": false,
     "start_time": "2022-01-03T11:26:50.133550",
     "status": "completed"
    },
    "tags": []
   },
   "outputs": [
    {
     "data": {
      "text/plain": [
       "Outcome    2\n",
       "dtype: int64"
      ]
     },
     "execution_count": 5,
     "metadata": {},
     "output_type": "execute_result"
    }
   ],
   "source": [
    "num_but_cat = [col for col in df.columns if df[col].nunique() < 10 and df[col].dtypes != \"O\"]\n",
    "df[num_but_cat].nunique()"
   ]
  },
  {
   "cell_type": "markdown",
   "id": "7f11cf8d",
   "metadata": {
    "papermill": {
     "duration": 0.050315,
     "end_time": "2022-01-03T11:26:50.300080",
     "exception": false,
     "start_time": "2022-01-03T11:26:50.249765",
     "status": "completed"
    },
    "tags": []
   },
   "source": [
    "Outcome variable is the only categorical variable, accurding to the determined treshold level, which is 10."
   ]
  },
  {
   "cell_type": "code",
   "execution_count": 6,
   "id": "f2b040fb",
   "metadata": {
    "execution": {
     "iopub.execute_input": "2022-01-03T11:26:50.406765Z",
     "iopub.status.busy": "2022-01-03T11:26:50.405782Z",
     "iopub.status.idle": "2022-01-03T11:26:50.409603Z",
     "shell.execute_reply": "2022-01-03T11:26:50.410092Z",
     "shell.execute_reply.started": "2022-01-02T12:37:35.064984Z"
    },
    "papermill": {
     "duration": 0.060268,
     "end_time": "2022-01-03T11:26:50.410258",
     "exception": false,
     "start_time": "2022-01-03T11:26:50.349990",
     "status": "completed"
    },
    "tags": []
   },
   "outputs": [
    {
     "data": {
      "text/plain": [
       "Pregnancies                 0\n",
       "Glucose                     0\n",
       "BloodPressure               0\n",
       "SkinThickness               0\n",
       "Insulin                     0\n",
       "BMI                         0\n",
       "DiabetesPedigreeFunction    0\n",
       "Age                         0\n",
       "Outcome                     0\n",
       "dtype: int64"
      ]
     },
     "execution_count": 6,
     "metadata": {},
     "output_type": "execute_result"
    }
   ],
   "source": [
    "df.isnull().sum()"
   ]
  },
  {
   "cell_type": "markdown",
   "id": "cd1aecc1",
   "metadata": {
    "papermill": {
     "duration": 0.04851,
     "end_time": "2022-01-03T11:26:50.506581",
     "exception": false,
     "start_time": "2022-01-03T11:26:50.458071",
     "status": "completed"
    },
    "tags": []
   },
   "source": [
    "There seems to be no missing values in the dataset. "
   ]
  },
  {
   "cell_type": "code",
   "execution_count": 7,
   "id": "2d905def",
   "metadata": {
    "execution": {
     "iopub.execute_input": "2022-01-03T11:26:50.615078Z",
     "iopub.status.busy": "2022-01-03T11:26:50.614072Z",
     "iopub.status.idle": "2022-01-03T11:26:50.652353Z",
     "shell.execute_reply": "2022-01-03T11:26:50.652896Z",
     "shell.execute_reply.started": "2022-01-02T12:37:35.076374Z"
    },
    "papermill": {
     "duration": 0.096249,
     "end_time": "2022-01-03T11:26:50.653064",
     "exception": false,
     "start_time": "2022-01-03T11:26:50.556815",
     "status": "completed"
    },
    "tags": []
   },
   "outputs": [
    {
     "data": {
      "text/html": [
       "<div>\n",
       "<style scoped>\n",
       "    .dataframe tbody tr th:only-of-type {\n",
       "        vertical-align: middle;\n",
       "    }\n",
       "\n",
       "    .dataframe tbody tr th {\n",
       "        vertical-align: top;\n",
       "    }\n",
       "\n",
       "    .dataframe thead th {\n",
       "        text-align: right;\n",
       "    }\n",
       "</style>\n",
       "<table border=\"1\" class=\"dataframe\">\n",
       "  <thead>\n",
       "    <tr style=\"text-align: right;\">\n",
       "      <th></th>\n",
       "      <th>count</th>\n",
       "      <th>mean</th>\n",
       "      <th>std</th>\n",
       "      <th>min</th>\n",
       "      <th>25%</th>\n",
       "      <th>50%</th>\n",
       "      <th>75%</th>\n",
       "      <th>max</th>\n",
       "    </tr>\n",
       "  </thead>\n",
       "  <tbody>\n",
       "    <tr>\n",
       "      <th>Pregnancies</th>\n",
       "      <td>768.0</td>\n",
       "      <td>3.845052</td>\n",
       "      <td>3.369578</td>\n",
       "      <td>0.000</td>\n",
       "      <td>1.00000</td>\n",
       "      <td>3.0000</td>\n",
       "      <td>6.00000</td>\n",
       "      <td>17.00</td>\n",
       "    </tr>\n",
       "    <tr>\n",
       "      <th>Glucose</th>\n",
       "      <td>768.0</td>\n",
       "      <td>120.894531</td>\n",
       "      <td>31.972618</td>\n",
       "      <td>0.000</td>\n",
       "      <td>99.00000</td>\n",
       "      <td>117.0000</td>\n",
       "      <td>140.25000</td>\n",
       "      <td>199.00</td>\n",
       "    </tr>\n",
       "    <tr>\n",
       "      <th>BloodPressure</th>\n",
       "      <td>768.0</td>\n",
       "      <td>69.105469</td>\n",
       "      <td>19.355807</td>\n",
       "      <td>0.000</td>\n",
       "      <td>62.00000</td>\n",
       "      <td>72.0000</td>\n",
       "      <td>80.00000</td>\n",
       "      <td>122.00</td>\n",
       "    </tr>\n",
       "    <tr>\n",
       "      <th>SkinThickness</th>\n",
       "      <td>768.0</td>\n",
       "      <td>20.536458</td>\n",
       "      <td>15.952218</td>\n",
       "      <td>0.000</td>\n",
       "      <td>0.00000</td>\n",
       "      <td>23.0000</td>\n",
       "      <td>32.00000</td>\n",
       "      <td>99.00</td>\n",
       "    </tr>\n",
       "    <tr>\n",
       "      <th>Insulin</th>\n",
       "      <td>768.0</td>\n",
       "      <td>79.799479</td>\n",
       "      <td>115.244002</td>\n",
       "      <td>0.000</td>\n",
       "      <td>0.00000</td>\n",
       "      <td>30.5000</td>\n",
       "      <td>127.25000</td>\n",
       "      <td>846.00</td>\n",
       "    </tr>\n",
       "    <tr>\n",
       "      <th>BMI</th>\n",
       "      <td>768.0</td>\n",
       "      <td>31.992578</td>\n",
       "      <td>7.884160</td>\n",
       "      <td>0.000</td>\n",
       "      <td>27.30000</td>\n",
       "      <td>32.0000</td>\n",
       "      <td>36.60000</td>\n",
       "      <td>67.10</td>\n",
       "    </tr>\n",
       "    <tr>\n",
       "      <th>DiabetesPedigreeFunction</th>\n",
       "      <td>768.0</td>\n",
       "      <td>0.471876</td>\n",
       "      <td>0.331329</td>\n",
       "      <td>0.078</td>\n",
       "      <td>0.24375</td>\n",
       "      <td>0.3725</td>\n",
       "      <td>0.62625</td>\n",
       "      <td>2.42</td>\n",
       "    </tr>\n",
       "    <tr>\n",
       "      <th>Age</th>\n",
       "      <td>768.0</td>\n",
       "      <td>33.240885</td>\n",
       "      <td>11.760232</td>\n",
       "      <td>21.000</td>\n",
       "      <td>24.00000</td>\n",
       "      <td>29.0000</td>\n",
       "      <td>41.00000</td>\n",
       "      <td>81.00</td>\n",
       "    </tr>\n",
       "    <tr>\n",
       "      <th>Outcome</th>\n",
       "      <td>768.0</td>\n",
       "      <td>0.348958</td>\n",
       "      <td>0.476951</td>\n",
       "      <td>0.000</td>\n",
       "      <td>0.00000</td>\n",
       "      <td>0.0000</td>\n",
       "      <td>1.00000</td>\n",
       "      <td>1.00</td>\n",
       "    </tr>\n",
       "  </tbody>\n",
       "</table>\n",
       "</div>"
      ],
      "text/plain": [
       "                          count        mean         std     min       25%  \\\n",
       "Pregnancies               768.0    3.845052    3.369578   0.000   1.00000   \n",
       "Glucose                   768.0  120.894531   31.972618   0.000  99.00000   \n",
       "BloodPressure             768.0   69.105469   19.355807   0.000  62.00000   \n",
       "SkinThickness             768.0   20.536458   15.952218   0.000   0.00000   \n",
       "Insulin                   768.0   79.799479  115.244002   0.000   0.00000   \n",
       "BMI                       768.0   31.992578    7.884160   0.000  27.30000   \n",
       "DiabetesPedigreeFunction  768.0    0.471876    0.331329   0.078   0.24375   \n",
       "Age                       768.0   33.240885   11.760232  21.000  24.00000   \n",
       "Outcome                   768.0    0.348958    0.476951   0.000   0.00000   \n",
       "\n",
       "                               50%        75%     max  \n",
       "Pregnancies                 3.0000    6.00000   17.00  \n",
       "Glucose                   117.0000  140.25000  199.00  \n",
       "BloodPressure              72.0000   80.00000  122.00  \n",
       "SkinThickness              23.0000   32.00000   99.00  \n",
       "Insulin                    30.5000  127.25000  846.00  \n",
       "BMI                        32.0000   36.60000   67.10  \n",
       "DiabetesPedigreeFunction    0.3725    0.62625    2.42  \n",
       "Age                        29.0000   41.00000   81.00  \n",
       "Outcome                     0.0000    1.00000    1.00  "
      ]
     },
     "execution_count": 7,
     "metadata": {},
     "output_type": "execute_result"
    }
   ],
   "source": [
    "df.describe().T"
   ]
  },
  {
   "cell_type": "markdown",
   "id": "c80edbde",
   "metadata": {
    "papermill": {
     "duration": 0.048213,
     "end_time": "2022-01-03T11:26:50.750309",
     "exception": false,
     "start_time": "2022-01-03T11:26:50.702096",
     "status": "completed"
    },
    "tags": []
   },
   "source": [
    "However variables such as bloodpressure or BMI are logically can not be zero. This means that missing values in the dataset are filled with 0 instead of NaN. If mean and median values are similar, data is symetric. This situation can be observed for Glucose, BloodPressure and BMI. \n",
    "\n",
    "If mean is grater than the median value, data is skewed to the right and vice versa. Such situation is significantly observed for Insulin. The skweness of the distribution of the data can better observed with histograms below."
   ]
  },
  {
   "cell_type": "code",
   "execution_count": 8,
   "id": "66ce9bb4",
   "metadata": {
    "execution": {
     "iopub.execute_input": "2022-01-03T11:26:50.854468Z",
     "iopub.status.busy": "2022-01-03T11:26:50.853214Z",
     "iopub.status.idle": "2022-01-03T11:26:52.584105Z",
     "shell.execute_reply": "2022-01-03T11:26:52.584615Z",
     "shell.execute_reply.started": "2022-01-02T12:37:35.111719Z"
    },
    "papermill": {
     "duration": 1.786046,
     "end_time": "2022-01-03T11:26:52.584864",
     "exception": false,
     "start_time": "2022-01-03T11:26:50.798818",
     "status": "completed"
    },
    "tags": []
   },
   "outputs": [
    {
     "data": {
      "image/png": "[encoded data removed]",
      "text/plain": [
       "<Figure size 864x576 with 9 Axes>"
      ]
     },
     "metadata": {
      "needs_background": "light"
     },
     "output_type": "display_data"
    }
   ],
   "source": [
    "df.hist(figsize=(12,8));"
   ]
  },
  {
   "cell_type": "markdown",
   "id": "2e76a48c",
   "metadata": {
    "papermill": {
     "duration": 0.051346,
     "end_time": "2022-01-03T11:26:52.686888",
     "exception": false,
     "start_time": "2022-01-03T11:26:52.635542",
     "status": "completed"
    },
    "tags": []
   },
   "source": [
    "Skeweness might be a signal of possible outlier values. Such outlier values can be observed with boxplot."
   ]
  },
  {
   "cell_type": "code",
   "execution_count": 9,
   "id": "fdc48441",
   "metadata": {
    "execution": {
     "iopub.execute_input": "2022-01-03T11:26:52.821974Z",
     "iopub.status.busy": "2022-01-03T11:26:52.820899Z",
     "iopub.status.idle": "2022-01-03T11:26:54.700225Z",
     "shell.execute_reply": "2022-01-03T11:26:54.700773Z",
     "shell.execute_reply.started": "2022-01-02T12:37:36.622569Z"
    },
    "papermill": {
     "duration": 1.963624,
     "end_time": "2022-01-03T11:26:54.700950",
     "exception": false,
     "start_time": "2022-01-03T11:26:52.737326",
     "status": "completed"
    },
    "tags": []
   },
   "outputs": [
    {
     "data": {
      "image/png": "[encoded data removed]",
      "text/plain": [
       "<Figure size 360x216 with 1 Axes>"
      ]
     },
     "metadata": {},
     "output_type": "display_data"
    },
    {
     "data": {
      "image/png": "[encoded data removed]",
      "text/plain": [
       "<Figure size 360x216 with 1 Axes>"
      ]
     },
     "metadata": {},
     "output_type": "display_data"
    },
    {
     "data": {
      "image/png": "[encoded data removed]",
      "text/plain": [
       "<Figure size 360x216 with 1 Axes>"
      ]
     },
     "metadata": {},
     "output_type": "display_data"
    },
    {
     "data": {
      "image/png": "[encoded data removed]",
      "text/plain": [
       "<Figure size 360x216 with 1 Axes>"
      ]
     },
     "metadata": {},
     "output_type": "display_data"
    },
    {
     "data": {
      "image/png": "[encoded data removed]",
      "text/plain": [
       "<Figure size 360x216 with 1 Axes>"
      ]
     },
     "metadata": {},
     "output_type": "display_data"
    },
    {
     "data": {
      "image/png": "[encoded data removed]",
      "text/plain": [
       "<Figure size 360x216 with 1 Axes>"
      ]
     },
     "metadata": {},
     "output_type": "display_data"
    },
    {
     "data": {
      "image/png": "[encoded data removed]",
      "text/plain": [
       "<Figure size 360x216 with 1 Axes>"
      ]
     },
     "metadata": {},
     "output_type": "display_data"
    },
    {
     "data": {
      "image/png": "[encoded data removed]",
      "text/plain": [
       "<Figure size 360x216 with 1 Axes>"
      ]
     },
     "metadata": {},
     "output_type": "display_data"
    }
   ],
   "source": [
    "num_cols = [col for col in df.columns if col not in num_but_cat]\n",
    "for col in num_cols:\n",
    "    sns.set(rc={'figure.figsize':(5,3)})\n",
    "    sns.boxplot(df[col])\n",
    "    plt.xlabel(col)\n",
    "    plt.title(col)\n",
    "    plt.show()"
   ]
  },
  {
   "cell_type": "markdown",
   "id": "f75d7c78",
   "metadata": {
    "papermill": {
     "duration": 0.054883,
     "end_time": "2022-01-03T11:26:54.812769",
     "exception": false,
     "start_time": "2022-01-03T11:26:54.757886",
     "status": "completed"
    },
    "tags": []
   },
   "source": [
    "### 2.1 Target Analysis "
   ]
  },
  {
   "cell_type": "code",
   "execution_count": 10,
   "id": "688f86fa",
   "metadata": {
    "execution": {
     "iopub.execute_input": "2022-01-03T11:26:54.938952Z",
     "iopub.status.busy": "2022-01-03T11:26:54.934447Z",
     "iopub.status.idle": "2022-01-03T11:26:54.963847Z",
     "shell.execute_reply": "2022-01-03T11:26:54.964724Z",
     "shell.execute_reply.started": "2022-01-02T12:37:38.137201Z"
    },
    "papermill": {
     "duration": 0.096896,
     "end_time": "2022-01-03T11:26:54.964906",
     "exception": false,
     "start_time": "2022-01-03T11:26:54.868010",
     "status": "completed"
    },
    "tags": []
   },
   "outputs": [
    {
     "name": "stdout",
     "output_type": "stream",
     "text": [
      "         Pregnancies\n",
      "Outcome             \n",
      "0           3.298000\n",
      "1           4.865672\n",
      "\n",
      "\n",
      "            Glucose\n",
      "Outcome            \n",
      "0        109.980000\n",
      "1        141.257463\n",
      "\n",
      "\n",
      "         BloodPressure\n",
      "Outcome               \n",
      "0            68.184000\n",
      "1            70.824627\n",
      "\n",
      "\n",
      "         SkinThickness\n",
      "Outcome               \n",
      "0            19.664000\n",
      "1            22.164179\n",
      "\n",
      "\n",
      "            Insulin\n",
      "Outcome            \n",
      "0         68.792000\n",
      "1        100.335821\n",
      "\n",
      "\n",
      "               BMI\n",
      "Outcome           \n",
      "0        30.304200\n",
      "1        35.142537\n",
      "\n",
      "\n",
      "         DiabetesPedigreeFunction\n",
      "Outcome                          \n",
      "0                        0.429734\n",
      "1                        0.550500\n",
      "\n",
      "\n",
      "               Age\n",
      "Outcome           \n",
      "0        31.190000\n",
      "1        37.067164\n",
      "\n",
      "\n"
     ]
    }
   ],
   "source": [
    "target = df[\"Outcome\"]\n",
    "for col in num_cols:\n",
    "    print(df.groupby(target).agg({col: \"mean\"}), end=\"\\n\\n\\n\")"
   ]
  },
  {
   "cell_type": "markdown",
   "id": "c5b5b9ca",
   "metadata": {
    "papermill": {
     "duration": 0.054938,
     "end_time": "2022-01-03T11:26:55.076216",
     "exception": false,
     "start_time": "2022-01-03T11:26:55.021278",
     "status": "completed"
    },
    "tags": []
   },
   "source": [
    "There is a high differnece in average Glucose levels of individuals who have diabetes and who does not have diabetes. Whereas, average level of SkinThickness of positive tested and negative tested individuals appears to be close to each other."
   ]
  },
  {
   "cell_type": "markdown",
   "id": "e4675baf",
   "metadata": {
    "papermill": {
     "duration": 0.057824,
     "end_time": "2022-01-03T11:26:55.189300",
     "exception": false,
     "start_time": "2022-01-03T11:26:55.131476",
     "status": "completed"
    },
    "tags": []
   },
   "source": [
    "# 3. Data Preprocessing "
   ]
  },
  {
   "cell_type": "markdown",
   "id": "544eecd3",
   "metadata": {
    "papermill": {
     "duration": 0.068858,
     "end_time": "2022-01-03T11:26:55.315516",
     "exception": false,
     "start_time": "2022-01-03T11:26:55.246658",
     "status": "completed"
    },
    "tags": []
   },
   "source": [
    "## 3.1 Missing Value Treatment \n",
    "\n",
    "As mentioned earlier Blood Pressure, BMI, Glucose, Insulin, Skin Thickness can not be zero. Therefore these values are filled with NaNs."
   ]
  },
  {
   "cell_type": "code",
   "execution_count": 11,
   "id": "d07af3ae",
   "metadata": {
    "execution": {
     "iopub.execute_input": "2022-01-03T11:26:55.567660Z",
     "iopub.status.busy": "2022-01-03T11:26:55.563276Z",
     "iopub.status.idle": "2022-01-03T11:26:55.577081Z",
     "shell.execute_reply": "2022-01-03T11:26:55.577973Z",
     "shell.execute_reply.started": "2022-01-02T12:37:38.168025Z"
    },
    "papermill": {
     "duration": 0.129698,
     "end_time": "2022-01-03T11:26:55.578150",
     "exception": false,
     "start_time": "2022-01-03T11:26:55.448452",
     "status": "completed"
    },
    "tags": []
   },
   "outputs": [],
   "source": [
    "null_cols = ['BloodPressure','BMI','Glucose','Insulin','SkinThickness']\n",
    "df[null_cols] = df[null_cols].replace(0, np.NaN)"
   ]
  },
  {
   "cell_type": "code",
   "execution_count": 12,
   "id": "c648c733",
   "metadata": {
    "execution": {
     "iopub.execute_input": "2022-01-03T11:26:55.777199Z",
     "iopub.status.busy": "2022-01-03T11:26:55.776075Z",
     "iopub.status.idle": "2022-01-03T11:26:55.785660Z",
     "shell.execute_reply": "2022-01-03T11:26:55.786446Z",
     "shell.execute_reply.started": "2022-01-02T12:37:38.180204Z"
    },
    "papermill": {
     "duration": 0.111865,
     "end_time": "2022-01-03T11:26:55.786703",
     "exception": false,
     "start_time": "2022-01-03T11:26:55.674838",
     "status": "completed"
    },
    "tags": []
   },
   "outputs": [
    {
     "data": {
      "text/plain": [
       "Pregnancies                   0\n",
       "Glucose                       5\n",
       "BloodPressure                35\n",
       "SkinThickness               227\n",
       "Insulin                     374\n",
       "BMI                          11\n",
       "DiabetesPedigreeFunction      0\n",
       "Age                           0\n",
       "Outcome                       0\n",
       "dtype: int64"
      ]
     },
     "execution_count": 12,
     "metadata": {},
     "output_type": "execute_result"
    }
   ],
   "source": [
    "df.isnull().sum()"
   ]
  },
  {
   "cell_type": "markdown",
   "id": "b91098e2",
   "metadata": {
    "papermill": {
     "duration": 0.097614,
     "end_time": "2022-01-03T11:26:55.982413",
     "exception": false,
     "start_time": "2022-01-03T11:26:55.884799",
     "status": "completed"
    },
    "tags": []
   },
   "source": [
    "Right now, actual null values have appeard in the dataset. These values can be filled with median values (https://www.kaggle.com/imdevez/pima-indians-diabetes-eda-prediction-0-941)."
   ]
  },
  {
   "cell_type": "code",
   "execution_count": 13,
   "id": "3dfb09f8",
   "metadata": {
    "execution": {
     "iopub.execute_input": "2022-01-03T11:26:56.103580Z",
     "iopub.status.busy": "2022-01-03T11:26:56.102588Z",
     "iopub.status.idle": "2022-01-03T11:26:56.129413Z",
     "shell.execute_reply": "2022-01-03T11:26:56.129893Z",
     "shell.execute_reply.started": "2022-01-02T12:37:38.191927Z"
    },
    "papermill": {
     "duration": 0.091016,
     "end_time": "2022-01-03T11:26:56.130064",
     "exception": false,
     "start_time": "2022-01-03T11:26:56.039048",
     "status": "completed"
    },
    "tags": []
   },
   "outputs": [
    {
     "data": {
      "text/html": [
       "<div>\n",
       "<style scoped>\n",
       "    .dataframe tbody tr th:only-of-type {\n",
       "        vertical-align: middle;\n",
       "    }\n",
       "\n",
       "    .dataframe tbody tr th {\n",
       "        vertical-align: top;\n",
       "    }\n",
       "\n",
       "    .dataframe thead th {\n",
       "        text-align: right;\n",
       "    }\n",
       "</style>\n",
       "<table border=\"1\" class=\"dataframe\">\n",
       "  <thead>\n",
       "    <tr style=\"text-align: right;\">\n",
       "      <th></th>\n",
       "      <th>Age</th>\n",
       "      <th>BMI</th>\n",
       "      <th>BloodPressure</th>\n",
       "      <th>DiabetesPedigreeFunction</th>\n",
       "      <th>Glucose</th>\n",
       "      <th>Insulin</th>\n",
       "      <th>Pregnancies</th>\n",
       "      <th>SkinThickness</th>\n",
       "    </tr>\n",
       "    <tr>\n",
       "      <th>Outcome</th>\n",
       "      <th></th>\n",
       "      <th></th>\n",
       "      <th></th>\n",
       "      <th></th>\n",
       "      <th></th>\n",
       "      <th></th>\n",
       "      <th></th>\n",
       "      <th></th>\n",
       "    </tr>\n",
       "  </thead>\n",
       "  <tbody>\n",
       "    <tr>\n",
       "      <th>0</th>\n",
       "      <td>27</td>\n",
       "      <td>30.1</td>\n",
       "      <td>70.0</td>\n",
       "      <td>0.336</td>\n",
       "      <td>107.0</td>\n",
       "      <td>102.5</td>\n",
       "      <td>2</td>\n",
       "      <td>27.0</td>\n",
       "    </tr>\n",
       "    <tr>\n",
       "      <th>1</th>\n",
       "      <td>36</td>\n",
       "      <td>34.3</td>\n",
       "      <td>74.5</td>\n",
       "      <td>0.449</td>\n",
       "      <td>140.0</td>\n",
       "      <td>169.5</td>\n",
       "      <td>4</td>\n",
       "      <td>32.0</td>\n",
       "    </tr>\n",
       "  </tbody>\n",
       "</table>\n",
       "</div>"
      ],
      "text/plain": [
       "         Age   BMI  BloodPressure  DiabetesPedigreeFunction  Glucose  Insulin  \\\n",
       "Outcome                                                                         \n",
       "0         27  30.1           70.0                     0.336    107.0    102.5   \n",
       "1         36  34.3           74.5                     0.449    140.0    169.5   \n",
       "\n",
       "         Pregnancies  SkinThickness  \n",
       "Outcome                              \n",
       "0                  2           27.0  \n",
       "1                  4           32.0  "
      ]
     },
     "execution_count": 13,
     "metadata": {},
     "output_type": "execute_result"
    }
   ],
   "source": [
    "df.pivot_table(df, index=[\"Outcome\"], aggfunc = \"median\")"
   ]
  },
  {
   "cell_type": "code",
   "execution_count": 14,
   "id": "1ab04ed3",
   "metadata": {
    "execution": {
     "iopub.execute_input": "2022-01-03T11:26:56.293369Z",
     "iopub.status.busy": "2022-01-03T11:26:56.292487Z",
     "iopub.status.idle": "2022-01-03T11:26:56.296845Z",
     "shell.execute_reply": "2022-01-03T11:26:56.297406Z",
     "shell.execute_reply.started": "2022-01-02T12:37:38.218788Z"
    },
    "papermill": {
     "duration": 0.109182,
     "end_time": "2022-01-03T11:26:56.297592",
     "exception": false,
     "start_time": "2022-01-03T11:26:56.188410",
     "status": "completed"
    },
    "tags": []
   },
   "outputs": [],
   "source": [
    "for col in df.columns:\n",
    "    df.loc[(df[\"Outcome\"]==0) & (df[col].isnull()), col] = df[df[\"Outcome\"]==0][col].median()\n",
    "    df.loc[(df[\"Outcome\"]==1) & (df[col].isnull()), col] = df[df[\"Outcome\"]==1][col].median()"
   ]
  },
  {
   "cell_type": "code",
   "execution_count": null,
   "id": "a834d9f5",
   "metadata": {
    "papermill": {
     "duration": 0.058513,
     "end_time": "2022-01-03T11:26:56.414506",
     "exception": false,
     "start_time": "2022-01-03T11:26:56.355993",
     "status": "completed"
    },
    "tags": []
   },
   "outputs": [],
   "source": []
  },
  {
   "cell_type": "markdown",
   "id": "4210e449",
   "metadata": {
    "papermill": {
     "duration": 0.056789,
     "end_time": "2022-01-03T11:26:56.528838",
     "exception": false,
     "start_time": "2022-01-03T11:26:56.472049",
     "status": "completed"
    },
    "tags": []
   },
   "source": [
    "## 3.2 Outlier Treatment "
   ]
  },
  {
   "cell_type": "code",
   "execution_count": 15,
   "id": "6f4a7b33",
   "metadata": {
    "execution": {
     "iopub.execute_input": "2022-01-03T11:26:56.655222Z",
     "iopub.status.busy": "2022-01-03T11:26:56.653909Z",
     "iopub.status.idle": "2022-01-03T11:26:56.690988Z",
     "shell.execute_reply": "2022-01-03T11:26:56.691550Z",
     "shell.execute_reply.started": "2022-01-02T12:37:38.249452Z"
    },
    "papermill": {
     "duration": 0.10498,
     "end_time": "2022-01-03T11:26:56.691729",
     "exception": false,
     "start_time": "2022-01-03T11:26:56.586749",
     "status": "completed"
    },
    "tags": []
   },
   "outputs": [
    {
     "data": {
      "text/html": [
       "<div>\n",
       "<style scoped>\n",
       "    .dataframe tbody tr th:only-of-type {\n",
       "        vertical-align: middle;\n",
       "    }\n",
       "\n",
       "    .dataframe tbody tr th {\n",
       "        vertical-align: top;\n",
       "    }\n",
       "\n",
       "    .dataframe thead th {\n",
       "        text-align: right;\n",
       "    }\n",
       "</style>\n",
       "<table border=\"1\" class=\"dataframe\">\n",
       "  <thead>\n",
       "    <tr style=\"text-align: right;\">\n",
       "      <th></th>\n",
       "      <th>count</th>\n",
       "      <th>mean</th>\n",
       "      <th>std</th>\n",
       "      <th>min</th>\n",
       "      <th>25%</th>\n",
       "      <th>50%</th>\n",
       "      <th>75%</th>\n",
       "      <th>max</th>\n",
       "    </tr>\n",
       "  </thead>\n",
       "  <tbody>\n",
       "    <tr>\n",
       "      <th>Pregnancies</th>\n",
       "      <td>768.0</td>\n",
       "      <td>3.845052</td>\n",
       "      <td>3.369578</td>\n",
       "      <td>0.000</td>\n",
       "      <td>1.00000</td>\n",
       "      <td>3.0000</td>\n",
       "      <td>6.00000</td>\n",
       "      <td>17.00</td>\n",
       "    </tr>\n",
       "    <tr>\n",
       "      <th>Glucose</th>\n",
       "      <td>768.0</td>\n",
       "      <td>121.677083</td>\n",
       "      <td>30.464161</td>\n",
       "      <td>44.000</td>\n",
       "      <td>99.75000</td>\n",
       "      <td>117.0000</td>\n",
       "      <td>140.25000</td>\n",
       "      <td>199.00</td>\n",
       "    </tr>\n",
       "    <tr>\n",
       "      <th>BloodPressure</th>\n",
       "      <td>768.0</td>\n",
       "      <td>72.389323</td>\n",
       "      <td>12.106039</td>\n",
       "      <td>24.000</td>\n",
       "      <td>64.00000</td>\n",
       "      <td>72.0000</td>\n",
       "      <td>80.00000</td>\n",
       "      <td>122.00</td>\n",
       "    </tr>\n",
       "    <tr>\n",
       "      <th>SkinThickness</th>\n",
       "      <td>768.0</td>\n",
       "      <td>29.089844</td>\n",
       "      <td>8.890820</td>\n",
       "      <td>7.000</td>\n",
       "      <td>25.00000</td>\n",
       "      <td>28.0000</td>\n",
       "      <td>32.00000</td>\n",
       "      <td>99.00</td>\n",
       "    </tr>\n",
       "    <tr>\n",
       "      <th>Insulin</th>\n",
       "      <td>768.0</td>\n",
       "      <td>141.753906</td>\n",
       "      <td>89.100847</td>\n",
       "      <td>14.000</td>\n",
       "      <td>102.50000</td>\n",
       "      <td>102.5000</td>\n",
       "      <td>169.50000</td>\n",
       "      <td>846.00</td>\n",
       "    </tr>\n",
       "    <tr>\n",
       "      <th>BMI</th>\n",
       "      <td>768.0</td>\n",
       "      <td>32.434635</td>\n",
       "      <td>6.880498</td>\n",
       "      <td>18.200</td>\n",
       "      <td>27.50000</td>\n",
       "      <td>32.0500</td>\n",
       "      <td>36.60000</td>\n",
       "      <td>67.10</td>\n",
       "    </tr>\n",
       "    <tr>\n",
       "      <th>DiabetesPedigreeFunction</th>\n",
       "      <td>768.0</td>\n",
       "      <td>0.471876</td>\n",
       "      <td>0.331329</td>\n",
       "      <td>0.078</td>\n",
       "      <td>0.24375</td>\n",
       "      <td>0.3725</td>\n",
       "      <td>0.62625</td>\n",
       "      <td>2.42</td>\n",
       "    </tr>\n",
       "    <tr>\n",
       "      <th>Age</th>\n",
       "      <td>768.0</td>\n",
       "      <td>33.240885</td>\n",
       "      <td>11.760232</td>\n",
       "      <td>21.000</td>\n",
       "      <td>24.00000</td>\n",
       "      <td>29.0000</td>\n",
       "      <td>41.00000</td>\n",
       "      <td>81.00</td>\n",
       "    </tr>\n",
       "    <tr>\n",
       "      <th>Outcome</th>\n",
       "      <td>768.0</td>\n",
       "      <td>0.348958</td>\n",
       "      <td>0.476951</td>\n",
       "      <td>0.000</td>\n",
       "      <td>0.00000</td>\n",
       "      <td>0.0000</td>\n",
       "      <td>1.00000</td>\n",
       "      <td>1.00</td>\n",
       "    </tr>\n",
       "  </tbody>\n",
       "</table>\n",
       "</div>"
      ],
      "text/plain": [
       "                          count        mean        std     min        25%  \\\n",
       "Pregnancies               768.0    3.845052   3.369578   0.000    1.00000   \n",
       "Glucose                   768.0  121.677083  30.464161  44.000   99.75000   \n",
       "BloodPressure             768.0   72.389323  12.106039  24.000   64.00000   \n",
       "SkinThickness             768.0   29.089844   8.890820   7.000   25.00000   \n",
       "Insulin                   768.0  141.753906  89.100847  14.000  102.50000   \n",
       "BMI                       768.0   32.434635   6.880498  18.200   27.50000   \n",
       "DiabetesPedigreeFunction  768.0    0.471876   0.331329   0.078    0.24375   \n",
       "Age                       768.0   33.240885  11.760232  21.000   24.00000   \n",
       "Outcome                   768.0    0.348958   0.476951   0.000    0.00000   \n",
       "\n",
       "                               50%        75%     max  \n",
       "Pregnancies                 3.0000    6.00000   17.00  \n",
       "Glucose                   117.0000  140.25000  199.00  \n",
       "BloodPressure              72.0000   80.00000  122.00  \n",
       "SkinThickness              28.0000   32.00000   99.00  \n",
       "Insulin                   102.5000  169.50000  846.00  \n",
       "BMI                        32.0500   36.60000   67.10  \n",
       "DiabetesPedigreeFunction    0.3725    0.62625    2.42  \n",
       "Age                        29.0000   41.00000   81.00  \n",
       "Outcome                     0.0000    1.00000    1.00  "
      ]
     },
     "execution_count": 15,
     "metadata": {},
     "output_type": "execute_result"
    }
   ],
   "source": [
    "df.describe().T"
   ]
  },
  {
   "cell_type": "markdown",
   "id": "8b737c39",
   "metadata": {
    "papermill": {
     "duration": 0.059176,
     "end_time": "2022-01-03T11:26:56.809886",
     "exception": false,
     "start_time": "2022-01-03T11:26:56.750710",
     "status": "completed"
    },
    "tags": []
   },
   "source": [
    "As it is seen above there are still outlier values in the dataset. This can be fixed with the following functions. Which functions equalize the outlier values with the threshold levels of which variable. "
   ]
  },
  {
   "cell_type": "code",
   "execution_count": 16,
   "id": "1ddab390",
   "metadata": {
    "execution": {
     "iopub.execute_input": "2022-01-03T11:26:56.933234Z",
     "iopub.status.busy": "2022-01-03T11:26:56.932218Z",
     "iopub.status.idle": "2022-01-03T11:26:56.935381Z",
     "shell.execute_reply": "2022-01-03T11:26:56.934805Z",
     "shell.execute_reply.started": "2022-01-02T12:37:38.289843Z"
    },
    "papermill": {
     "duration": 0.06647,
     "end_time": "2022-01-03T11:26:56.935542",
     "exception": false,
     "start_time": "2022-01-03T11:26:56.869072",
     "status": "completed"
    },
    "tags": []
   },
   "outputs": [],
   "source": [
    "# Funtion to determine the outlier thresholds for the choosen variable \n",
    "def outlier_thresholds(dataframe, col_name, q1=0.25, q3=0.75):\n",
    "    quartile1 = dataframe[col_name].quantile(q1)\n",
    "    quartile3 = dataframe[col_name].quantile(q3)\n",
    "    interquantile_range = quartile3 - quartile1\n",
    "    up_limit = quartile3 + 1.5 * interquantile_range\n",
    "    low_limit = quartile1 - 1.5 * interquantile_range\n",
    "    return low_limit, up_limit"
   ]
  },
  {
   "cell_type": "code",
   "execution_count": 17,
   "id": "aa3fee77",
   "metadata": {
    "execution": {
     "iopub.execute_input": "2022-01-03T11:26:57.057925Z",
     "iopub.status.busy": "2022-01-03T11:26:57.056934Z",
     "iopub.status.idle": "2022-01-03T11:26:57.060093Z",
     "shell.execute_reply": "2022-01-03T11:26:57.059587Z",
     "shell.execute_reply.started": "2022-01-02T12:37:38.297736Z"
    },
    "papermill": {
     "duration": 0.067247,
     "end_time": "2022-01-03T11:26:57.060263",
     "exception": false,
     "start_time": "2022-01-03T11:26:56.993016",
     "status": "completed"
    },
    "tags": []
   },
   "outputs": [],
   "source": [
    "# Function to control check outlier values by the predetermined treshold values.\n",
    "def check_outlier(dataframe, col_name, q1=0.10, q3=0.90):\n",
    "    low_limit, up_limit = outlier_thresholds(dataframe, col_name, q1, q3)\n",
    "    if dataframe[(dataframe[col_name] > up_limit) | (dataframe[col_name] < low_limit)].any(axis=None):\n",
    "        return True\n",
    "    else:\n",
    "        return False"
   ]
  },
  {
   "cell_type": "code",
   "execution_count": 18,
   "id": "eb0f1ffb",
   "metadata": {
    "execution": {
     "iopub.execute_input": "2022-01-03T11:26:57.188031Z",
     "iopub.status.busy": "2022-01-03T11:26:57.182141Z",
     "iopub.status.idle": "2022-01-03T11:26:57.227014Z",
     "shell.execute_reply": "2022-01-03T11:26:57.227504Z",
     "shell.execute_reply.started": "2022-01-02T12:37:38.307711Z"
    },
    "papermill": {
     "duration": 0.110774,
     "end_time": "2022-01-03T11:26:57.227697",
     "exception": false,
     "start_time": "2022-01-03T11:26:57.116923",
     "status": "completed"
    },
    "tags": []
   },
   "outputs": [
    {
     "name": "stdout",
     "output_type": "stream",
     "text": [
      "Pregnancies False\n",
      "Glucose False\n",
      "BloodPressure False\n",
      "SkinThickness True\n",
      "Insulin True\n",
      "BMI False\n",
      "DiabetesPedigreeFunction True\n",
      "Age False\n",
      "Outcome False\n"
     ]
    }
   ],
   "source": [
    "for col in df.columns:\n",
    "    if check_outlier(df, col):\n",
    "        print(col, \"True\")\n",
    "    else: print(col, \"False\")"
   ]
  },
  {
   "cell_type": "code",
   "execution_count": 19,
   "id": "4dcd4581",
   "metadata": {
    "execution": {
     "iopub.execute_input": "2022-01-03T11:26:57.352095Z",
     "iopub.status.busy": "2022-01-03T11:26:57.350998Z",
     "iopub.status.idle": "2022-01-03T11:26:57.353920Z",
     "shell.execute_reply": "2022-01-03T11:26:57.354509Z",
     "shell.execute_reply.started": "2022-01-02T12:37:38.349916Z"
    },
    "papermill": {
     "duration": 0.069151,
     "end_time": "2022-01-03T11:26:57.354684",
     "exception": false,
     "start_time": "2022-01-03T11:26:57.285533",
     "status": "completed"
    },
    "tags": []
   },
   "outputs": [],
   "source": [
    "# Function which replaces the outlier values with the threshold values \n",
    "def replace_with_thresholds(dataframe, variable):\n",
    "    low_limit, up_limit = outlier_thresholds(dataframe, variable)\n",
    "    dataframe.loc[(dataframe[variable] < low_limit), variable] = low_limit\n",
    "    dataframe.loc[(dataframe[variable] > up_limit), variable] = up_limit"
   ]
  },
  {
   "cell_type": "code",
   "execution_count": 20,
   "id": "c40ec4ed",
   "metadata": {
    "execution": {
     "iopub.execute_input": "2022-01-03T11:26:57.491470Z",
     "iopub.status.busy": "2022-01-03T11:26:57.486046Z",
     "iopub.status.idle": "2022-01-03T11:26:57.525141Z",
     "shell.execute_reply": "2022-01-03T11:26:57.525756Z",
     "shell.execute_reply.started": "2022-01-02T12:37:38.357442Z"
    },
    "papermill": {
     "duration": 0.112151,
     "end_time": "2022-01-03T11:26:57.525971",
     "exception": false,
     "start_time": "2022-01-03T11:26:57.413820",
     "status": "completed"
    },
    "tags": []
   },
   "outputs": [],
   "source": [
    "for col in df.columns:\n",
    "    if check_outlier(df, col):\n",
    "        replace_with_thresholds(df, col)"
   ]
  },
  {
   "cell_type": "code",
   "execution_count": 21,
   "id": "f349d079",
   "metadata": {
    "execution": {
     "iopub.execute_input": "2022-01-03T11:26:57.653222Z",
     "iopub.status.busy": "2022-01-03T11:26:57.650826Z",
     "iopub.status.idle": "2022-01-03T11:26:57.695666Z",
     "shell.execute_reply": "2022-01-03T11:26:57.694959Z",
     "shell.execute_reply.started": "2022-01-02T12:37:38.399736Z"
    },
    "papermill": {
     "duration": 0.110456,
     "end_time": "2022-01-03T11:26:57.695816",
     "exception": false,
     "start_time": "2022-01-03T11:26:57.585360",
     "status": "completed"
    },
    "tags": []
   },
   "outputs": [
    {
     "name": "stdout",
     "output_type": "stream",
     "text": [
      "Pregnancies False\n",
      "Glucose False\n",
      "BloodPressure False\n",
      "SkinThickness False\n",
      "Insulin False\n",
      "BMI False\n",
      "DiabetesPedigreeFunction False\n",
      "Age False\n",
      "Outcome False\n"
     ]
    }
   ],
   "source": [
    "for col in df.columns:\n",
    "    if check_outlier(df, col):\n",
    "        print(col, \"True\")\n",
    "    else: print(col, \"False\")"
   ]
  },
  {
   "cell_type": "markdown",
   "id": "a2c1bee0",
   "metadata": {
    "papermill": {
     "duration": 0.060135,
     "end_time": "2022-01-03T11:26:57.815974",
     "exception": false,
     "start_time": "2022-01-03T11:26:57.755839",
     "status": "completed"
    },
    "tags": []
   },
   "source": [
    "# 3.Feature Engineering"
   ]
  },
  {
   "cell_type": "markdown",
   "id": "a59c80cd",
   "metadata": {
    "papermill": {
     "duration": 0.059173,
     "end_time": "2022-01-03T11:26:57.934967",
     "exception": false,
     "start_time": "2022-01-03T11:26:57.875794",
     "status": "completed"
    },
    "tags": []
   },
   "source": [
    "### Categorizing BMI\n",
    "\n",
    "BMI for adults can be classified as follows:\n",
    "\n",
    "- Below 18.5      Underweight\n",
    "- 18.5 – 24.9     Healthy Weight\n",
    "- 25.0 – 29.9     Overweight\n",
    "- 30.0 and Above  Obesity\n",
    "\n",
    "Source: https://www.cdc.gov/healthyweight/assessing/bmi/adult_bmi/index.html"
   ]
  },
  {
   "cell_type": "code",
   "execution_count": 22,
   "id": "faa99e11",
   "metadata": {
    "execution": {
     "iopub.execute_input": "2022-01-03T11:26:58.063712Z",
     "iopub.status.busy": "2022-01-03T11:26:58.062612Z",
     "iopub.status.idle": "2022-01-03T11:26:58.065445Z",
     "shell.execute_reply": "2022-01-03T11:26:58.065971Z",
     "shell.execute_reply.started": "2022-01-02T12:37:38.43918Z"
    },
    "papermill": {
     "duration": 0.071713,
     "end_time": "2022-01-03T11:26:58.066181",
     "exception": false,
     "start_time": "2022-01-03T11:26:57.994468",
     "status": "completed"
    },
    "tags": []
   },
   "outputs": [],
   "source": [
    "df[\"NEW_BMI\"] = pd.cut(x=df[\"BMI\"], bins=[0, 18.5, 24.9, 29.9, 70], labels = [\"Underweight\", \"Healty_Weight\", \"Overweight\", \"Obesity\"])"
   ]
  },
  {
   "cell_type": "markdown",
   "id": "dd3e56cc",
   "metadata": {
    "papermill": {
     "duration": 0.059253,
     "end_time": "2022-01-03T11:26:58.185410",
     "exception": false,
     "start_time": "2022-01-03T11:26:58.126157",
     "status": "completed"
    },
    "tags": []
   },
   "source": [
    "### Categorizing Glucose \n",
    "Definition of the variable Glucose is Glucose is that plasma glucose concentration a 2 hours in an oral glucose tolerance test. For 2 hour GGT the glucose level;\n",
    "\n",
    "- below 140 mg/dL is normal,\n",
    "- 140 mg/dL - 200 mg/dL indicates \"impaired glucose tolerance\"\n",
    "- 200 mg/dL and above confirm a diagnosis of diabetes\n",
    "\n",
    "Source: https://en.wikipedia.org/wiki/Glucose_tolerance_test"
   ]
  },
  {
   "cell_type": "code",
   "execution_count": 23,
   "id": "27a1ec55",
   "metadata": {
    "execution": {
     "iopub.execute_input": "2022-01-03T11:26:58.314588Z",
     "iopub.status.busy": "2022-01-03T11:26:58.313871Z",
     "iopub.status.idle": "2022-01-03T11:26:58.317929Z",
     "shell.execute_reply": "2022-01-03T11:26:58.318665Z",
     "shell.execute_reply.started": "2022-01-02T12:37:38.449561Z"
    },
    "papermill": {
     "duration": 0.073533,
     "end_time": "2022-01-03T11:26:58.318828",
     "exception": false,
     "start_time": "2022-01-03T11:26:58.245295",
     "status": "completed"
    },
    "tags": []
   },
   "outputs": [],
   "source": [
    "df[\"NEW_GLUCOSE\"] = pd.cut(x=df[\"Glucose\"], bins=[0, 140, 200, 250], labels = [\"Normal\", \"Imp_Glucose_Tolerance\", \"Confirmed_Diabetes\"])"
   ]
  },
  {
   "cell_type": "markdown",
   "id": "274e17ba",
   "metadata": {
    "papermill": {
     "duration": 0.059709,
     "end_time": "2022-01-03T11:26:58.438216",
     "exception": false,
     "start_time": "2022-01-03T11:26:58.378507",
     "status": "completed"
    },
    "tags": []
   },
   "source": [
    "### Pregnancy and Diabetes \n",
    "\n",
    "Gestational diabetes occurs between 1 in 20 and 1 in 50 pregnancies. Gestational diabetes mostly goes after the pregnancy but there is a risk of recurrence in future pregnancy. Additonally, women who have had GDM have higher chance to get diabetes in the future. Therefore the variable Pregnancies should be weighted.(https://patient.info/pregnancy/pregnancy-complications/diabetes-and-pregnancy) And women with 4 or more pregnancieas are also in potential risk group. (https://pubmed.ncbi.nlm.nih.gov/31453963/)  "
   ]
  },
  {
   "cell_type": "code",
   "execution_count": 24,
   "id": "5511c88a",
   "metadata": {
    "execution": {
     "iopub.execute_input": "2022-01-03T11:26:58.563528Z",
     "iopub.status.busy": "2022-01-03T11:26:58.562425Z",
     "iopub.status.idle": "2022-01-03T11:26:58.565816Z",
     "shell.execute_reply": "2022-01-03T11:26:58.565265Z",
     "shell.execute_reply.started": "2022-01-02T12:37:38.460248Z"
    },
    "papermill": {
     "duration": 0.069844,
     "end_time": "2022-01-03T11:26:58.565958",
     "exception": false,
     "start_time": "2022-01-03T11:26:58.496114",
     "status": "completed"
    },
    "tags": []
   },
   "outputs": [],
   "source": [
    "df[\"NEW_PREGNANCIES\"]=df[\"Pregnancies\"].apply(lambda x: x*2 if x<=3 else x*4)"
   ]
  },
  {
   "cell_type": "markdown",
   "id": "cd173282",
   "metadata": {
    "papermill": {
     "duration": 0.059786,
     "end_time": "2022-01-03T11:26:58.684758",
     "exception": false,
     "start_time": "2022-01-03T11:26:58.624972",
     "status": "completed"
    },
    "tags": []
   },
   "source": [
    "## 3.1 Encoding"
   ]
  },
  {
   "cell_type": "code",
   "execution_count": 25,
   "id": "6bf3f93f",
   "metadata": {
    "execution": {
     "iopub.execute_input": "2022-01-03T11:26:58.823161Z",
     "iopub.status.busy": "2022-01-03T11:26:58.822111Z",
     "iopub.status.idle": "2022-01-03T11:26:58.826127Z",
     "shell.execute_reply": "2022-01-03T11:26:58.826652Z",
     "shell.execute_reply.started": "2022-01-02T12:37:38.46865Z"
    },
    "papermill": {
     "duration": 0.083906,
     "end_time": "2022-01-03T11:26:58.826809",
     "exception": false,
     "start_time": "2022-01-03T11:26:58.742903",
     "status": "completed"
    },
    "tags": []
   },
   "outputs": [
    {
     "data": {
      "text/html": [
       "<div>\n",
       "<style scoped>\n",
       "    .dataframe tbody tr th:only-of-type {\n",
       "        vertical-align: middle;\n",
       "    }\n",
       "\n",
       "    .dataframe tbody tr th {\n",
       "        vertical-align: top;\n",
       "    }\n",
       "\n",
       "    .dataframe thead th {\n",
       "        text-align: right;\n",
       "    }\n",
       "</style>\n",
       "<table border=\"1\" class=\"dataframe\">\n",
       "  <thead>\n",
       "    <tr style=\"text-align: right;\">\n",
       "      <th></th>\n",
       "      <th>Pregnancies</th>\n",
       "      <th>Glucose</th>\n",
       "      <th>BloodPressure</th>\n",
       "      <th>SkinThickness</th>\n",
       "      <th>Insulin</th>\n",
       "      <th>BMI</th>\n",
       "      <th>DiabetesPedigreeFunction</th>\n",
       "      <th>Age</th>\n",
       "      <th>Outcome</th>\n",
       "      <th>NEW_BMI</th>\n",
       "      <th>NEW_GLUCOSE</th>\n",
       "      <th>NEW_PREGNANCIES</th>\n",
       "    </tr>\n",
       "  </thead>\n",
       "  <tbody>\n",
       "    <tr>\n",
       "      <th>0</th>\n",
       "      <td>6</td>\n",
       "      <td>148.0</td>\n",
       "      <td>72.0</td>\n",
       "      <td>35.0</td>\n",
       "      <td>169.5</td>\n",
       "      <td>33.6</td>\n",
       "      <td>0.627</td>\n",
       "      <td>50</td>\n",
       "      <td>1</td>\n",
       "      <td>Obesity</td>\n",
       "      <td>Imp_Glucose_Tolerance</td>\n",
       "      <td>24</td>\n",
       "    </tr>\n",
       "    <tr>\n",
       "      <th>1</th>\n",
       "      <td>1</td>\n",
       "      <td>85.0</td>\n",
       "      <td>66.0</td>\n",
       "      <td>29.0</td>\n",
       "      <td>102.5</td>\n",
       "      <td>26.6</td>\n",
       "      <td>0.351</td>\n",
       "      <td>31</td>\n",
       "      <td>0</td>\n",
       "      <td>Overweight</td>\n",
       "      <td>Normal</td>\n",
       "      <td>2</td>\n",
       "    </tr>\n",
       "    <tr>\n",
       "      <th>2</th>\n",
       "      <td>8</td>\n",
       "      <td>183.0</td>\n",
       "      <td>64.0</td>\n",
       "      <td>32.0</td>\n",
       "      <td>169.5</td>\n",
       "      <td>23.3</td>\n",
       "      <td>0.672</td>\n",
       "      <td>32</td>\n",
       "      <td>1</td>\n",
       "      <td>Healty_Weight</td>\n",
       "      <td>Imp_Glucose_Tolerance</td>\n",
       "      <td>32</td>\n",
       "    </tr>\n",
       "    <tr>\n",
       "      <th>3</th>\n",
       "      <td>1</td>\n",
       "      <td>89.0</td>\n",
       "      <td>66.0</td>\n",
       "      <td>23.0</td>\n",
       "      <td>94.0</td>\n",
       "      <td>28.1</td>\n",
       "      <td>0.167</td>\n",
       "      <td>21</td>\n",
       "      <td>0</td>\n",
       "      <td>Overweight</td>\n",
       "      <td>Normal</td>\n",
       "      <td>2</td>\n",
       "    </tr>\n",
       "    <tr>\n",
       "      <th>4</th>\n",
       "      <td>0</td>\n",
       "      <td>137.0</td>\n",
       "      <td>40.0</td>\n",
       "      <td>35.0</td>\n",
       "      <td>168.0</td>\n",
       "      <td>43.1</td>\n",
       "      <td>1.200</td>\n",
       "      <td>33</td>\n",
       "      <td>1</td>\n",
       "      <td>Obesity</td>\n",
       "      <td>Normal</td>\n",
       "      <td>0</td>\n",
       "    </tr>\n",
       "  </tbody>\n",
       "</table>\n",
       "</div>"
      ],
      "text/plain": [
       "   Pregnancies  Glucose  BloodPressure  SkinThickness  Insulin   BMI  \\\n",
       "0            6    148.0           72.0           35.0    169.5  33.6   \n",
       "1            1     85.0           66.0           29.0    102.5  26.6   \n",
       "2            8    183.0           64.0           32.0    169.5  23.3   \n",
       "3            1     89.0           66.0           23.0     94.0  28.1   \n",
       "4            0    137.0           40.0           35.0    168.0  43.1   \n",
       "\n",
       "   DiabetesPedigreeFunction  Age  Outcome        NEW_BMI  \\\n",
       "0                     0.627   50        1        Obesity   \n",
       "1                     0.351   31        0     Overweight   \n",
       "2                     0.672   32        1  Healty_Weight   \n",
       "3                     0.167   21        0     Overweight   \n",
       "4                     1.200   33        1        Obesity   \n",
       "\n",
       "             NEW_GLUCOSE  NEW_PREGNANCIES  \n",
       "0  Imp_Glucose_Tolerance               24  \n",
       "1                 Normal                2  \n",
       "2  Imp_Glucose_Tolerance               32  \n",
       "3                 Normal                2  \n",
       "4                 Normal                0  "
      ]
     },
     "execution_count": 25,
     "metadata": {},
     "output_type": "execute_result"
    }
   ],
   "source": [
    "df.head()"
   ]
  },
  {
   "cell_type": "code",
   "execution_count": 26,
   "id": "5d38224c",
   "metadata": {
    "execution": {
     "iopub.execute_input": "2022-01-03T11:26:58.952228Z",
     "iopub.status.busy": "2022-01-03T11:26:58.950971Z",
     "iopub.status.idle": "2022-01-03T11:26:58.965747Z",
     "shell.execute_reply": "2022-01-03T11:26:58.964984Z",
     "shell.execute_reply.started": "2022-01-02T12:37:38.489688Z"
    },
    "papermill": {
     "duration": 0.079541,
     "end_time": "2022-01-03T11:26:58.965889",
     "exception": false,
     "start_time": "2022-01-03T11:26:58.886348",
     "status": "completed"
    },
    "tags": []
   },
   "outputs": [
    {
     "name": "stdout",
     "output_type": "stream",
     "text": [
      "Pregnancies 17\n",
      "Glucose 135\n",
      "BloodPressure 47\n",
      "SkinThickness 30\n",
      "Insulin 142\n",
      "BMI 247\n",
      "DiabetesPedigreeFunction 490\n",
      "Age 52\n",
      "Outcome 2\n",
      "NEW_BMI 4\n",
      "NEW_GLUCOSE 2\n",
      "NEW_PREGNANCIES 17\n"
     ]
    }
   ],
   "source": [
    "for col in df.columns:\n",
    "    print(col, df[col].nunique())"
   ]
  },
  {
   "cell_type": "code",
   "execution_count": 27,
   "id": "68ce57ad",
   "metadata": {
    "execution": {
     "iopub.execute_input": "2022-01-03T11:26:59.091248Z",
     "iopub.status.busy": "2022-01-03T11:26:59.090233Z",
     "iopub.status.idle": "2022-01-03T11:26:59.096963Z",
     "shell.execute_reply": "2022-01-03T11:26:59.096484Z",
     "shell.execute_reply.started": "2022-01-02T12:37:38.507224Z"
    },
    "papermill": {
     "duration": 0.072675,
     "end_time": "2022-01-03T11:26:59.097091",
     "exception": false,
     "start_time": "2022-01-03T11:26:59.024416",
     "status": "completed"
    },
    "tags": []
   },
   "outputs": [
    {
     "data": {
      "text/plain": [
       "['NEW_BMI', 'NEW_GLUCOSE']"
      ]
     },
     "execution_count": 27,
     "metadata": {},
     "output_type": "execute_result"
    }
   ],
   "source": [
    "# Picking up categorical variables\n",
    "cat_cols = [col for col in df.columns if len(df[col].unique()) < 5 and col != \"Outcome\"]\n",
    "cat_cols"
   ]
  },
  {
   "cell_type": "code",
   "execution_count": 28,
   "id": "c6ae90c5",
   "metadata": {
    "execution": {
     "iopub.execute_input": "2022-01-03T11:26:59.221234Z",
     "iopub.status.busy": "2022-01-03T11:26:59.220265Z",
     "iopub.status.idle": "2022-01-03T11:26:59.222668Z",
     "shell.execute_reply": "2022-01-03T11:26:59.223340Z",
     "shell.execute_reply.started": "2022-01-02T12:37:38.522241Z"
    },
    "papermill": {
     "duration": 0.06647,
     "end_time": "2022-01-03T11:26:59.223489",
     "exception": false,
     "start_time": "2022-01-03T11:26:59.157019",
     "status": "completed"
    },
    "tags": []
   },
   "outputs": [],
   "source": [
    "# Function for encoding categorical variables \n",
    "def one_hot_encoder(dataframe, categorical_cols, drop_first=False):\n",
    "    dataframe = pd.get_dummies(dataframe, columns=categorical_cols, drop_first=drop_first)\n",
    "    return dataframe"
   ]
  },
  {
   "cell_type": "code",
   "execution_count": 29,
   "id": "7d01b3a7",
   "metadata": {
    "execution": {
     "iopub.execute_input": "2022-01-03T11:26:59.348479Z",
     "iopub.status.busy": "2022-01-03T11:26:59.347418Z",
     "iopub.status.idle": "2022-01-03T11:26:59.353679Z",
     "shell.execute_reply": "2022-01-03T11:26:59.354202Z",
     "shell.execute_reply.started": "2022-01-02T12:37:38.529518Z"
    },
    "papermill": {
     "duration": 0.072552,
     "end_time": "2022-01-03T11:26:59.354462",
     "exception": false,
     "start_time": "2022-01-03T11:26:59.281910",
     "status": "completed"
    },
    "tags": []
   },
   "outputs": [],
   "source": [
    "df = one_hot_encoder(df, cat_cols, drop_first=True)"
   ]
  },
  {
   "cell_type": "code",
   "execution_count": 30,
   "id": "970c518c",
   "metadata": {
    "execution": {
     "iopub.execute_input": "2022-01-03T11:26:59.479802Z",
     "iopub.status.busy": "2022-01-03T11:26:59.478709Z",
     "iopub.status.idle": "2022-01-03T11:26:59.493652Z",
     "shell.execute_reply": "2022-01-03T11:26:59.493007Z",
     "shell.execute_reply.started": "2022-01-02T12:37:38.541186Z"
    },
    "papermill": {
     "duration": 0.079206,
     "end_time": "2022-01-03T11:26:59.493814",
     "exception": false,
     "start_time": "2022-01-03T11:26:59.414608",
     "status": "completed"
    },
    "tags": []
   },
   "outputs": [
    {
     "name": "stdout",
     "output_type": "stream",
     "text": [
      "<class 'pandas.core.frame.DataFrame'>\n",
      "RangeIndex: 768 entries, 0 to 767\n",
      "Data columns (total 15 columns):\n",
      " #   Column                             Non-Null Count  Dtype  \n",
      "---  ------                             --------------  -----  \n",
      " 0   Pregnancies                        768 non-null    int64  \n",
      " 1   Glucose                            768 non-null    float64\n",
      " 2   BloodPressure                      768 non-null    float64\n",
      " 3   SkinThickness                      768 non-null    float64\n",
      " 4   Insulin                            768 non-null    float64\n",
      " 5   BMI                                768 non-null    float64\n",
      " 6   DiabetesPedigreeFunction           768 non-null    float64\n",
      " 7   Age                                768 non-null    int64  \n",
      " 8   Outcome                            768 non-null    int64  \n",
      " 9   NEW_PREGNANCIES                    768 non-null    int64  \n",
      " 10  NEW_BMI_Healty_Weight              768 non-null    uint8  \n",
      " 11  NEW_BMI_Overweight                 768 non-null    uint8  \n",
      " 12  NEW_BMI_Obesity                    768 non-null    uint8  \n",
      " 13  NEW_GLUCOSE_Imp_Glucose_Tolerance  768 non-null    uint8  \n",
      " 14  NEW_GLUCOSE_Confirmed_Diabetes     768 non-null    uint8  \n",
      "dtypes: float64(6), int64(4), uint8(5)\n",
      "memory usage: 63.9 KB\n"
     ]
    }
   ],
   "source": [
    "df.info()"
   ]
  },
  {
   "cell_type": "markdown",
   "id": "30512198",
   "metadata": {
    "papermill": {
     "duration": 0.058926,
     "end_time": "2022-01-03T11:26:59.614980",
     "exception": false,
     "start_time": "2022-01-03T11:26:59.556054",
     "status": "completed"
    },
    "tags": []
   },
   "source": [
    "## 3.2 Standardizing"
   ]
  },
  {
   "cell_type": "code",
   "execution_count": 31,
   "id": "1d1758c1",
   "metadata": {
    "execution": {
     "iopub.execute_input": "2022-01-03T11:26:59.746019Z",
     "iopub.status.busy": "2022-01-03T11:26:59.744913Z",
     "iopub.status.idle": "2022-01-03T11:26:59.799279Z",
     "shell.execute_reply": "2022-01-03T11:26:59.798709Z",
     "shell.execute_reply.started": "2022-01-02T12:37:38.557405Z"
    },
    "papermill": {
     "duration": 0.119501,
     "end_time": "2022-01-03T11:26:59.799425",
     "exception": false,
     "start_time": "2022-01-03T11:26:59.679924",
     "status": "completed"
    },
    "tags": []
   },
   "outputs": [],
   "source": [
    "num_cols = [col for col in df.columns if df[col].dtypes != \"O\"] # Selecting numerical columns\n",
    "\n",
    "# Selecting numerical but categorical variables and eliminating target variable \n",
    "num_but_cat = [col for col in df.columns if df[col].nunique() < 5 \n",
    "               and df[col].dtypes != \"O\"]\n",
    "\n",
    "num_cols2 = [col for col in num_cols if col not in num_but_cat] \n",
    "\n",
    "for col in num_cols2:\n",
    "    transformer = RobustScaler().fit(df[[col]])\n",
    "    df[col] = transformer.transform(df[[col]])"
   ]
  },
  {
   "cell_type": "markdown",
   "id": "88a4b10c",
   "metadata": {
    "papermill": {
     "duration": 0.060417,
     "end_time": "2022-01-03T11:26:59.922342",
     "exception": false,
     "start_time": "2022-01-03T11:26:59.861925",
     "status": "completed"
    },
    "tags": []
   },
   "source": [
    "# 4.Modelling"
   ]
  },
  {
   "cell_type": "code",
   "execution_count": 32,
   "id": "b4d40a31",
   "metadata": {
    "execution": {
     "iopub.execute_input": "2022-01-03T11:27:00.056554Z",
     "iopub.status.busy": "2022-01-03T11:27:00.055447Z",
     "iopub.status.idle": "2022-01-03T11:27:00.060038Z",
     "shell.execute_reply": "2022-01-03T11:27:00.059554Z",
     "shell.execute_reply.started": "2022-01-02T12:37:38.5997Z"
    },
    "papermill": {
     "duration": 0.078043,
     "end_time": "2022-01-03T11:27:00.060195",
     "exception": false,
     "start_time": "2022-01-03T11:26:59.982152",
     "status": "completed"
    },
    "tags": []
   },
   "outputs": [],
   "source": [
    "y = df[\"Outcome\"]\n",
    "X = df.drop([\"Outcome\"], axis=1)"
   ]
  },
  {
   "cell_type": "code",
   "execution_count": 33,
   "id": "8caf12ae",
   "metadata": {
    "execution": {
     "iopub.execute_input": "2022-01-03T11:27:00.191147Z",
     "iopub.status.busy": "2022-01-03T11:27:00.184583Z",
     "iopub.status.idle": "2022-01-03T11:27:00.195069Z",
     "shell.execute_reply": "2022-01-03T11:27:00.194549Z",
     "shell.execute_reply.started": "2022-01-02T12:37:38.606691Z"
    },
    "papermill": {
     "duration": 0.076335,
     "end_time": "2022-01-03T11:27:00.195256",
     "exception": false,
     "start_time": "2022-01-03T11:27:00.118921",
     "status": "completed"
    },
    "tags": []
   },
   "outputs": [],
   "source": [
    "X_train, X_test, y_train, y_test = train_test_split(X,\n",
    "                                                    y,\n",
    "                                                    test_size=0.20, random_state=123)"
   ]
  },
  {
   "cell_type": "code",
   "execution_count": 34,
   "id": "5d515387",
   "metadata": {
    "execution": {
     "iopub.execute_input": "2022-01-03T11:27:00.327755Z",
     "iopub.status.busy": "2022-01-03T11:27:00.326667Z",
     "iopub.status.idle": "2022-01-03T11:27:00.328900Z",
     "shell.execute_reply": "2022-01-03T11:27:00.329485Z",
     "shell.execute_reply.started": "2022-01-02T12:37:38.617616Z"
    },
    "papermill": {
     "duration": 0.073504,
     "end_time": "2022-01-03T11:27:00.329665",
     "exception": false,
     "start_time": "2022-01-03T11:27:00.256161",
     "status": "completed"
    },
    "tags": []
   },
   "outputs": [],
   "source": [
    "\n",
    "classifiers = [('LR', LogisticRegression()),\n",
    "               ('KNN', KNeighborsClassifier()),\n",
    "               (\"SVC\", SVC()),\n",
    "               (\"CART\", DecisionTreeClassifier()),\n",
    "               (\"RF\", RandomForestClassifier()),\n",
    "               ('Adaboost', AdaBoostClassifier()),\n",
    "               ('GBM', GradientBoostingClassifier()),\n",
    "               ('XGBoost', XGBClassifier(verbosity=0, silent=True)),\n",
    "               ('LightGBM', LGBMClassifier()),\n",
    "               ('CatBoost', CatBoostClassifier(verbose=False))]"
   ]
  },
  {
   "cell_type": "code",
   "execution_count": 35,
   "id": "01d4be6b",
   "metadata": {
    "execution": {
     "iopub.execute_input": "2022-01-03T11:27:00.461367Z",
     "iopub.status.busy": "2022-01-03T11:27:00.460338Z",
     "iopub.status.idle": "2022-01-03T11:27:27.697325Z",
     "shell.execute_reply": "2022-01-03T11:27:27.697830Z",
     "shell.execute_reply.started": "2022-01-02T12:37:38.628539Z"
    },
    "papermill": {
     "duration": 27.30505,
     "end_time": "2022-01-03T11:27:27.698009",
     "exception": false,
     "start_time": "2022-01-03T11:27:00.392959",
     "status": "completed"
    },
    "tags": []
   },
   "outputs": [
    {
     "name": "stdout",
     "output_type": "stream",
     "text": [
      "AUC: 0.8742 (LR) \n",
      "AUC: 0.8905 (KNN) \n",
      "AUC: 0.9096 (SVC) \n",
      "AUC: 0.829 (CART) \n",
      "AUC: 0.9412 (RF) \n",
      "AUC: 0.9383 (Adaboost) \n",
      "AUC: 0.9585 (GBM) \n",
      "AUC: 0.9505 (XGBoost) \n",
      "AUC: 0.9533 (LightGBM) \n",
      "AUC: 0.9536 (CatBoost) \n"
     ]
    }
   ],
   "source": [
    "for name, classifier in classifiers:\n",
    "    cv_results = cross_validate(classifier, X, y, cv=10, scoring=[\"roc_auc\"])\n",
    "    print(f\"AUC: {round(cv_results['test_roc_auc'].mean(),4)} ({name}) \")"
   ]
  },
  {
   "cell_type": "markdown",
   "id": "f77499bb",
   "metadata": {
    "papermill": {
     "duration": 0.0634,
     "end_time": "2022-01-03T11:27:27.824893",
     "exception": false,
     "start_time": "2022-01-03T11:27:27.761493",
     "status": "completed"
    },
    "tags": []
   },
   "source": [
    "AUC score for the ROC curve is highest in the GBM with 0.9582 and followed by CatBoost, LightGBM and XGBoost. Therefore the analyse preceeds with model tunning for those models."
   ]
  },
  {
   "cell_type": "markdown",
   "id": "590785f5",
   "metadata": {
    "papermill": {
     "duration": 0.061863,
     "end_time": "2022-01-03T11:27:27.949270",
     "exception": false,
     "start_time": "2022-01-03T11:27:27.887407",
     "status": "completed"
    },
    "tags": []
   },
   "source": [
    "## 4.1 Model Tunning"
   ]
  },
  {
   "cell_type": "code",
   "execution_count": 36,
   "id": "d49f068c",
   "metadata": {
    "execution": {
     "iopub.execute_input": "2022-01-03T11:27:28.083529Z",
     "iopub.status.busy": "2022-01-03T11:27:28.082403Z",
     "iopub.status.idle": "2022-01-03T11:27:28.084940Z",
     "shell.execute_reply": "2022-01-03T11:27:28.085525Z",
     "shell.execute_reply.started": "2022-01-02T12:38:00.281126Z"
    },
    "papermill": {
     "duration": 0.074504,
     "end_time": "2022-01-03T11:27:28.085713",
     "exception": false,
     "start_time": "2022-01-03T11:27:28.011209",
     "status": "completed"
    },
    "tags": []
   },
   "outputs": [],
   "source": [
    "# Assigning initial parameters \n",
    "gbm_params = {\"learning_rate\" : [0.001, 0.01, 0.1, 0.05],\n",
    "             \"n_estimators\": [100,500,1000],\n",
    "             \"max_depth\": [3,5,10],\n",
    "             \"min_samples_split\": [2,5,10]}\n",
    "\n",
    "catb_params = {'iterations': [200,500],\n",
    "               'learning_rate': [0.01,0.05, 0.1],\n",
    "               'depth': [3,5,8]}\n",
    "\n",
    "lgbm_params = {'n_estimators': [100, 500, 1000, 2000],\n",
    "               'subsample': [0.6, 0.8, 1.0],\n",
    "               'max_depth': [3, 4, 5,6],\n",
    "               'learning_rate': [0.1,0.01,0.02,0.05],\n",
    "               \"min_child_samples\": [5,10,20]} #instead of min_samples_split\n",
    "        \n",
    "xgb_params = {\"n_estimators\": [100, 500, 1000, 2000],\n",
    "              \"subsample\": [0.6, 0.8, 1.0],\n",
    "              \"max_depth\": [3, 4, 5,6],\n",
    "              'learning_rate': [0.1,0.01,0.02,0.05],\n",
    "              \"min_samples_split\": [2,5,10]}"
   ]
  },
  {
   "cell_type": "code",
   "execution_count": 37,
   "id": "2fcebda6",
   "metadata": {
    "execution": {
     "iopub.execute_input": "2022-01-03T11:27:28.223823Z",
     "iopub.status.busy": "2022-01-03T11:27:28.222387Z",
     "iopub.status.idle": "2022-01-03T19:38:00.672451Z",
     "shell.execute_reply": "2022-01-03T19:38:00.673063Z",
     "shell.execute_reply.started": "2022-01-02T12:38:00.290993Z"
    },
    "papermill": {
     "duration": 29432.524545,
     "end_time": "2022-01-03T19:38:00.673277",
     "exception": false,
     "start_time": "2022-01-03T11:27:28.148732",
     "status": "completed"
    },
    "tags": []
   },
   "outputs": [
    {
     "name": "stdout",
     "output_type": "stream",
     "text": [
      "########## GBM ##########\n",
      "AUC (Before): 0.9581\n",
      "AUC (After): 0.9558\n",
      "GBM best params: {'learning_rate': 0.001, 'max_depth': 5, 'min_samples_split': 2, 'n_estimators': 1000}\n",
      "\n",
      "########## XGBoost ##########\n",
      "AUC (Before): 0.9505\n",
      "AUC (After): 0.9571\n",
      "XGBoost best params: {'learning_rate': 0.05, 'max_depth': 3, 'min_samples_split': 2, 'n_estimators': 100, 'subsample': 1.0}\n",
      "\n",
      "########## LightGBM ##########\n",
      "AUC (Before): 0.9533\n"
     ]
    },
    {
     "name": "stderr",
     "output_type": "stream",
     "text": [
      "/opt/conda/lib/python3.7/site-packages/xgboost/sklearn.py:1224: UserWarning: The use of label encoder in XGBClassifier is deprecated and will be removed in a future release. To remove this warning, do the following: 1) Pass option use_label_encoder=False when constructing XGBClassifier object; and 2) Encode your labels (y) as integers starting with 0, i.e. 0, 1, 2, ..., [num_class - 1].\n",
      "  warnings.warn(label_encoder_deprecation_msg, UserWarning)\n",
      "/opt/conda/lib/python3.7/site-packages/xgboost/sklearn.py:1224: UserWarning: The use of label encoder in XGBClassifier is deprecated and will be removed in a future release. To remove this warning, do the following: 1) Pass option use_label_encoder=False when constructing XGBClassifier object; and 2) Encode your labels (y) as integers starting with 0, i.e. 0, 1, 2, ..., [num_class - 1].\n",
      "  warnings.warn(label_encoder_deprecation_msg, UserWarning)\n"
     ]
    },
    {
     "name": "stdout",
     "output_type": "stream",
     "text": [
      "AUC (After): 0.9542\n",
      "LightGBM best params: {'learning_rate': 0.01, 'max_depth': 3, 'min_child_samples': 20, 'n_estimators': 1000, 'subsample': 0.6}\n",
      "\n",
      "########## CatBoost ##########\n",
      "AUC (Before): 0.9536\n",
      "AUC (After): 0.9541\n",
      "CatBoost best params: {'depth': 3, 'iterations': 200, 'learning_rate': 0.1}\n",
      "\n"
     ]
    }
   ],
   "source": [
    "classifiers = [('GBM', GradientBoostingClassifier(), gbm_params),\n",
    "               ('XGBoost', XGBClassifier(verbosity=0, silent=True), xgb_params),\n",
    "               ('LightGBM', LGBMClassifier(), lgbm_params),\n",
    "               ('CatBoost', CatBoostClassifier(verbose=False), catb_params)]\n",
    "\n",
    "best_models = {}\n",
    "\n",
    "for name, classifier, params in classifiers:\n",
    "    print(f\"########## {name} ##########\")\n",
    "    cv_results = cross_validate(classifier, X, y, cv=10, scoring=[\"roc_auc\"])\n",
    "    print(f\"AUC (Before): {round(cv_results['test_roc_auc'].mean(),4)}\")\n",
    "\n",
    "\n",
    "    gs_best = GridSearchCV(classifier, params, cv=10, n_jobs=-1, verbose=False).fit(X, y)\n",
    "    final_model = classifier.set_params(**gs_best.best_params_)\n",
    "\n",
    "    cv_results = cross_validate(final_model, X, y, cv=10, scoring=[\"roc_auc\"])\n",
    "    print(f\"AUC (After): {round(cv_results['test_roc_auc'].mean(), 4)}\")\n",
    "    print(f\"{name} best params: {gs_best.best_params_}\", end=\"\\n\\n\")\n",
    "\n",
    "    best_models[name] = final_model"
   ]
  },
  {
   "cell_type": "markdown",
   "id": "8aac6fd8",
   "metadata": {
    "papermill": {
     "duration": 0.065691,
     "end_time": "2022-01-03T19:38:00.805841",
     "exception": false,
     "start_time": "2022-01-03T19:38:00.740150",
     "status": "completed"
    },
    "tags": []
   },
   "source": [
    "### 3.2 Stacking and Ensambling Models\n",
    "\n",
    "Best 4 models based on their AUC score is combined to bulit a robust and optimal model with voting classifier. Additionally, k-fold cross valdition is used to estimate the prediction power of the ensambled model. "
   ]
  },
  {
   "cell_type": "code",
   "execution_count": 38,
   "id": "b4d230d7",
   "metadata": {
    "execution": {
     "iopub.execute_input": "2022-01-03T19:38:00.948941Z",
     "iopub.status.busy": "2022-01-03T19:38:00.947953Z",
     "iopub.status.idle": "2022-01-03T19:38:43.194498Z",
     "shell.execute_reply": "2022-01-03T19:38:43.195058Z",
     "shell.execute_reply.started": "2022-01-02T18:57:37.788138Z"
    },
    "papermill": {
     "duration": 42.320459,
     "end_time": "2022-01-03T19:38:43.195314",
     "exception": false,
     "start_time": "2022-01-03T19:38:00.874855",
     "status": "completed"
    },
    "tags": []
   },
   "outputs": [
    {
     "name": "stdout",
     "output_type": "stream",
     "text": [
      "AUC (After): 0.9561\n"
     ]
    }
   ],
   "source": [
    "voting_clf = VotingClassifier(\n",
    "    estimators=[('GBM', best_models[\"GBM\"]),\n",
    "                ('CatBoost', best_models[\"CatBoost\"]),\n",
    "                ('XGBoost', best_models[\"XGBoost\"]),\n",
    "                ('LightGBM', best_models[\"LightGBM\"])],\n",
    "    voting='soft')\n",
    "\n",
    "voting_clf.fit(X, y)\n",
    "\n",
    "kfold = KFold(n_splits=10, random_state=6789)\n",
    "cv_results = cross_validate(voting_clf, X, y, cv=kfold, scoring=[\"accuracy\", \"f1\", \"roc_auc\"])\n",
    "print(f\"AUC (After): {round(cv_results['test_roc_auc'].mean(), 4)}\")"
   ]
  }
 ],
 "metadata": {
  "kernelspec": {
   "display_name": "Python 3",
   "language": "python",
   "name": "python3"
  },
  "language_info": {
   "codemirror_mode": {
    "name": "ipython",
    "version": 3
   },
   "file_extension": ".py",
   "mimetype": "text/x-python",
   "name": "python",
   "nbconvert_exporter": "python",
   "pygments_lexer": "ipython3",
   "version": "3.7.12"
  },
  "papermill": {
   "default_parameters": {},
   "duration": 29529.77512,
   "end_time": "2022-01-03T19:38:44.338968",
   "environment_variables": {},
   "exception": null,
   "input_path": "__notebook__.ipynb",
   "output_path": "__notebook__.ipynb",
   "parameters": {},
   "start_time": "2022-01-03T11:26:34.563848",
   "version": "2.3.3"
  }
 },
 "nbformat": 4,
 "nbformat_minor": 5
}
